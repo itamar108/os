{
  "cells": [
    {
      "cell_type": "markdown",
      "metadata": {
        "id": "view-in-github",
        "colab_type": "text"
      },
      "source": [
        "<a href=\"https://colab.research.google.com/github/itamar108/os/blob/master/DQN_RL2024_FinalProject_ENV2_KeyDoorEnv.ipynb\" target=\"_parent\"><img src=\"https://colab.research.google.com/assets/colab-badge.svg\" alt=\"Open In Colab\"/></a>"
      ]
    },
    {
      "cell_type": "markdown",
      "metadata": {
        "id": "SLapsBtwOO6m"
      },
      "source": [
        "# Mid Semester Project - DEEP Reinforcements Learning\n",
        "# ENV2 - KEY DOOR ENVIRONMENT\n",
        "Dear students,<br> this is the template notebook. Please copy it by clicking on the \"File\" tab and then on \"Save a copy into drive\".\n",
        "\n",
        "---\n",
        "<br>\n",
        "\n",
        "### Name and ID:\n",
        "Student 1: Itamar Hadad. ID: 308426964\n",
        "<br>\n",
        "Student 2: Neriya Shulman. ID: 208275024\n",
        "<br><br>\n",
        "<img src=\"https://raw.githubusercontent.com/Farama-Foundation/Minigrid/master/minigrid-text.png\">\n",
        "\n",
        "### https://minigrid.farama.org/"
      ]
    },
    {
      "cell_type": "markdown",
      "metadata": {
        "id": "4-OzvtfyOYL8"
      },
      "source": [
        "# Pre-Requisit"
      ]
    },
    {
      "cell_type": "markdown",
      "metadata": {
        "id": "fUNptoCrObZs"
      },
      "source": [
        "## Installs"
      ]
    },
    {
      "cell_type": "code",
      "execution_count": null,
      "metadata": {
        "id": "-YTEVlS-OAQ-"
      },
      "outputs": [],
      "source": [
        "%%capture\n",
        "!sudo apt-get update\n",
        "!sudo apt-get install -y xvfb ffmpeg freeglut3-dev\n",
        "!pip install 'imageio==2.4.0'\n",
        "!pip install gym\n",
        "!pip install gym-minigrid\n",
        "!pip install pygame\n",
        "!apt-get install python-opengl -y\n",
        "!apt install xvfb -y\n",
        "!pip install pyvirtualdisplay\n",
        "!pip install piglet\n",
        "!pip install gym\n",
        "!apt-get install python-opengl -y\n",
        "!apt install xvfb -y\n",
        "!pip install -U --no-cache-dir gdown --pre"
      ]
    },
    {
      "cell_type": "markdown",
      "metadata": {
        "id": "SEFhAxcrOhB1"
      },
      "source": [
        "## Imports"
      ]
    },
    {
      "cell_type": "code",
      "execution_count": null,
      "metadata": {
        "colab": {
          "base_uri": "https://localhost:8080/"
        },
        "id": "RM8i62VoOnA-",
        "outputId": "40bfcf97-f7c9-4fd9-d58c-a1a9fa4abc91"
      },
      "outputs": [
        {
          "output_type": "stream",
          "name": "stdout",
          "text": [
            "Mounted at /content/drive\n"
          ]
        },
        {
          "output_type": "stream",
          "name": "stderr",
          "text": [
            "/usr/local/lib/python3.10/dist-packages/gym/envs/registration.py:307: DeprecationWarning: The package name gym_minigrid has been deprecated in favor of minigrid. Please uninstall gym_minigrid and install minigrid with `pip install minigrid`. Future releases will be maintained under the new package name minigrid.\n",
            "  fn()\n"
          ]
        }
      ],
      "source": [
        "from google.colab import drive\n",
        "drive.mount('/content/drive')\n",
        "\n",
        "import numpy as np\n",
        "import gym\n",
        "from gym import logger as gymlogger\n",
        "from gym.utils import seeding\n",
        "from gym import error, spaces, utils\n",
        "gymlogger.set_level(40) # error only\n",
        "import glob\n",
        "import io\n",
        "import base64\n",
        "import os\n",
        "import random\n",
        "import matplotlib.pyplot as plt\n",
        "%matplotlib inline\n",
        "plt.rcParams['figure.figsize'] = (10.0, 8.0) # set default size of plots\n",
        "plt.rcParams['image.interpolation'] = 'nearest'\n",
        "plt.rcParams['image.cmap'] = 'gray'\n",
        "%load_ext autoreload\n",
        "%autoreload 2\n",
        "import math\n",
        "import glob\n",
        "from pyvirtualdisplay import Display\n",
        "from IPython.display import HTML\n",
        "from IPython import display as ipythondisplay\n",
        "import pygame\n",
        "import pyvirtualdisplay\n",
        "import imageio\n",
        "import IPython\n",
        "import time\n",
        "import cv2\n",
        "import numpy as np\n",
        "import matplotlib.pyplot as plt\n",
        "from collections import deque\n",
        "\n",
        "\n",
        "import torch\n",
        "import torch.nn as nn\n",
        "import torch.nn.functional as F\n",
        "\n",
        "\n",
        "from collections import deque, namedtuple\n",
        "import torch.optim as optim\n",
        "\n"
      ]
    },
    {
      "cell_type": "markdown",
      "metadata": {
        "id": "LnksgjjqOq02"
      },
      "source": [
        "## Display utils\n",
        "The cell below contains the video display configuration. No need to make changes here."
      ]
    },
    {
      "cell_type": "code",
      "execution_count": null,
      "metadata": {
        "id": "ceUl4Q9JOzpO"
      },
      "outputs": [],
      "source": [
        "def embed_mp4(filename):\n",
        "  \"\"\"Embeds an mp4 file in the notebook.\"\"\"\n",
        "  video = open(filename,'rb').read()\n",
        "  b64 = base64.b64encode(video)\n",
        "  tag = '''\n",
        "  <video width=\"640\" height=\"480\" controls>\n",
        "    <source src=\"data:video/mp4;base64,{0}\" type=\"video/mp4\">\n",
        "  Your browser does not support the video tag.\n",
        "  </video>'''.format(b64.decode())\n",
        "\n",
        "  return IPython.display.HTML(tag)\n",
        "display = pyvirtualdisplay.Display(visible=0, size=(1400, 900)).start()"
      ]
    },
    {
      "cell_type": "markdown",
      "metadata": {
        "id": "bvDlMYrxO4-7"
      },
      "source": [
        "#Env2 - Key Door Env"
      ]
    },
    {
      "cell_type": "markdown",
      "metadata": {
        "id": "P34xWJJpOmQn"
      },
      "source": [
        "## Class Env"
      ]
    },
    {
      "cell_type": "code",
      "execution_count": null,
      "metadata": {
        "id": "uhkmk0Y5PCVZ"
      },
      "outputs": [],
      "source": [
        "from __future__ import annotations\n",
        "from gym_minigrid.minigrid import COLOR_NAMES\n",
        "from gym_minigrid.minigrid import Grid\n",
        "from gym_minigrid.minigrid import MissionSpace\n",
        "from gym_minigrid.minigrid import Door, Goal, Key, Wall, Lava, Floor\n",
        "from minigrid_x import MiniGridEnv\n",
        "from gym import spaces\n",
        "import random\n",
        "\n",
        "class RandomKeyMEnv_10(MiniGridEnv):\n",
        "    def __init__(\n",
        "        self,\n",
        "        size=10,\n",
        "        agent_start_pos=(1, 1),\n",
        "        agent_start_dir=0,\n",
        "        max_steps: int | None = None,\n",
        "        **kwargs,\n",
        "    ):\n",
        "        self.agent_start_pos = agent_start_pos\n",
        "        self.agent_start_dir = agent_start_dir\n",
        "\n",
        "        mission_space = MissionSpace(mission_func=self._gen_mission)\n",
        "\n",
        "        if max_steps is None:\n",
        "            max_steps = 4 * size**2\n",
        "\n",
        "        super().__init__(\n",
        "            mission_space=mission_space,\n",
        "            grid_size=size,\n",
        "            # Set this to True for maximum speed\n",
        "            see_through_walls=True,\n",
        "            max_steps=max_steps,\n",
        "            **kwargs,\n",
        "        )\n",
        "        self.partition_col = 3\n",
        "        self.walls_init = [(self.partition_col, i) for i in range(0, self.grid.height)]\n",
        "        self.goal_pos = (self.grid.width - 2, self.grid.height - 2)\n",
        "\n",
        "\n",
        "    def get_pass_location(self):\n",
        "      return (self.partition_col, self.pass_loc)\n",
        "\n",
        "    def get_partition_column(self):\n",
        "      return self.partition_col\n",
        "\n",
        "    @staticmethod\n",
        "    def _gen_mission():\n",
        "        return \"grand mission\"\n",
        "\n",
        "    def get_k_pos(self):\n",
        "      return self.key_pos\n",
        "\n",
        "    def get_d_pos(self):\n",
        "      return self.door_pos\n",
        "\n",
        "    def _gen_grid(self, width, height):\n",
        "        # Place Dor in random location within all column the partition\n",
        "        self.pass_loc = random.choice([op_row for op_row in range(1, self.unwrapped.width-1)])\n",
        "\n",
        "        # Create an empty grid\n",
        "        self.grid = Grid(width, height)\n",
        "\n",
        "        # Generate the surrounding walls\n",
        "        self.grid.wall_rect(0, 0, width, height)\n",
        "\n",
        "        # Generate verical separation wall\n",
        "        # for i in range(0, height):\n",
        "        #     self.grid.set(5, i, Wall())\n",
        "\n",
        "\n",
        "        for column, row in self.walls_init:\n",
        "          self.grid.set(column, row, Wall())\n",
        "\n",
        "        # Place Key in random location within all the free spaces left to the partition\n",
        "        self.key_pos = (random.choice([k_col for k_col in range(1,self.partition_col)]), random.choice([k_row for k_row in range(2,self.unwrapped.height-1)]))\n",
        "        self.door_pos = (self.partition_col, self.pass_loc)\n",
        "\n",
        "        self.env_door = Door(COLOR_NAMES[0], is_locked=True)\n",
        "\n",
        "        # Place the Lava\n",
        "        # self.grid.set(4, 6, Lava())\n",
        "\n",
        "        # Place the door and key\n",
        "        self.grid.set(self.door_pos[0], self.door_pos[1], self.env_door)\n",
        "        self.grid.set(self.key_pos[0], self.key_pos[1], Key(COLOR_NAMES[0]))\n",
        "        self.goal_pos = (width - 2, height - 2)\n",
        "        # Place a goal square in the bottom-right corner\n",
        "        self.put_obj(Goal(), self.goal_pos[0], self.goal_pos[1])\n",
        "\n",
        "        # Place the agent\n",
        "        if self.agent_start_pos is not None:\n",
        "            self.agent_pos = self.agent_start_pos\n",
        "            self.agent_dir = self.agent_start_dir\n",
        "        else:\n",
        "            self.place_agent()\n",
        "\n",
        "        self.mission = \"grand mission\"\n",
        "\n",
        "    def is_carrying_key(self):\n",
        "        if 'Key' in str(self.unwrapped.carrying):\n",
        "            return True\n",
        "        return False\n",
        "\n",
        "    def is_door_open(self):\n",
        "        return self.unwrapped.env_door.is_open"
      ]
    },
    {
      "cell_type": "markdown",
      "metadata": {
        "id": "UpLk4aRJPGFT"
      },
      "source": [
        "## WRAPPER"
      ]
    },
    {
      "cell_type": "code",
      "execution_count": null,
      "metadata": {
        "id": "9KRuCLDBPKRd"
      },
      "outputs": [],
      "source": [
        "\n",
        "ACTION_MAP = {0:0,\n",
        "              1:1,\n",
        "              2:2,\n",
        "              3:3,\n",
        "              4:5,\n",
        "              5:5}\n",
        "\n",
        "\n",
        "class KEYRGBImgObsWrapper(gym.core.ObservationWrapper):\n",
        "    \"\"\"\n",
        "    Wrapper to use fully observable RGB image as the only observation output,\n",
        "    no language/mission. This can be used to have the agent to solve the\n",
        "    gridworld in pixel space.\n",
        "    \"\"\"\n",
        "\n",
        "    def __init__(self, env, tile_size=32, plot=False, preprocess= lambda x: x):\n",
        "        super().__init__(env)\n",
        "\n",
        "        self.tile_size = tile_size\n",
        "        self.plot = plot\n",
        "        self.observation_space = spaces.Box(\n",
        "            low=0,\n",
        "            high=255,\n",
        "            # #the default is (320,320,3). Tile size  = 32 X 10 (grid size)\n",
        "            # TODO: BE CAREFULL TO CHANGE the shape size to be according your preprocess size/channels\n",
        "            # The env information i staken from here\n",
        "            shape=(320, 320, 3),\n",
        "            dtype='uint8'\n",
        "        )\n",
        "        self.prev_door = False\n",
        "        self.prev_key = False\n",
        "        self.action_space = spaces.Discrete(self.action_space.n - 2)\n",
        "\n",
        "        #TODO: THINK AND TEST DIFFERENT PREPROCESS\n",
        "        self._preprocess = lambda x: x\n",
        "\n",
        "\n",
        "    def observation(self, obs):\n",
        "      env = self.unwrapped\n",
        "\n",
        "      # Call render without any unsupported keyword arguments\n",
        "      rgb_img = env.render()  # Use the default rendering behavior\n",
        "      return rgb_img\n",
        "\n",
        "    def reset(self, seed = 0, options = None):\n",
        "        self.prev_door = False\n",
        "        self.prev_key = False\n",
        "        obs, info = super().reset()\n",
        "        if self.plot:\n",
        "            plt.show()\n",
        "        return self._preprocess(obs), info\n",
        "\n",
        "    def step(self, action):\n",
        "        action = ACTION_MAP[action]\n",
        "        obs, r, d, info, x = super().step(action)\n",
        "        obs = self._preprocess(obs)\n",
        "\n",
        "        # TODO: REWARD SHAPING\n",
        "        #we encourage you to come up with a better reward function using  self.is_door_open() and self.is_carrying_key()\n",
        "\n",
        "        r = self.reshape_reward(r)\n",
        "\n",
        "\n",
        "        return obs, r, d, info, x\n",
        "\n",
        "    def reshape_reward(self, r):\n",
        "        x_pos, y_pos = self.agent_pos\n",
        "\n",
        "        if r > 0:\n",
        "            return r*15\n",
        "\n",
        "        if x_pos > 2:\n",
        "            # print(\"pass the wall\")\n",
        "            return -0.08\n",
        "\n",
        "        if self.env.is_door_open():\n",
        "            return -0.2\n",
        "\n",
        "        if self.env.is_carrying_key():\n",
        "            return -0.5\n",
        "\n",
        "        return -1\n",
        "\n"
      ]
    },
    {
      "cell_type": "markdown",
      "metadata": {
        "id": "OcqI6IfBSWAp"
      },
      "source": []
    },
    {
      "cell_type": "markdown",
      "metadata": {
        "id": "TPwDWTIIPNXB"
      },
      "source": [
        "## Env Info"
      ]
    },
    {
      "cell_type": "code",
      "execution_count": null,
      "metadata": {
        "colab": {
          "base_uri": "https://localhost:8080/",
          "height": 716
        },
        "id": "tI8qzBErPQRl",
        "outputId": "59fc55f0-802f-4c97-8a84-c7fe81e7d4a2"
      },
      "outputs": [
        {
          "output_type": "stream",
          "name": "stdout",
          "text": [
            "(320, 320, 3)\n"
          ]
        },
        {
          "output_type": "execute_result",
          "data": {
            "text/plain": [
              "<matplotlib.image.AxesImage at 0x7f17802e5ea0>"
            ]
          },
          "metadata": {},
          "execution_count": 6
        },
        {
          "output_type": "display_data",
          "data": {
            "text/plain": [
              "<Figure size 1000x800 with 1 Axes>"
            ],
            "image/png": "[encoded data removed]"
          },
          "metadata": {}
        }
      ],
      "source": [
        "env = KEYRGBImgObsWrapper(RandomKeyMEnv_10 (render_mode='rgb_array'))\n",
        "obs = env.reset()[0]\n",
        "print(obs.shape)\n",
        "screen = env.render()\n",
        "\n",
        "plt.imshow(screen)"
      ]
    },
    {
      "cell_type": "code",
      "execution_count": null,
      "metadata": {
        "colab": {
          "base_uri": "https://localhost:8080/"
        },
        "id": "w2ZqbGwLPQY8",
        "outputId": "5fbd9ca0-1110-4575-b1df-1f2f57c6faf5"
      },
      "outputs": [
        {
          "output_type": "stream",
          "name": "stdout",
          "text": [
            "Number of actions: 5\n",
            "State size is: (320, 320, 3)\n"
          ]
        }
      ],
      "source": [
        "state_size = obs.shape  # Replace with your actual state size\n",
        "action_space = env.action_space\n",
        "num_actions = action_space.n\n",
        "print(f\"Number of actions: {num_actions}\")\n",
        "print(f\"State size is: {state_size}\")"
      ]
    },
    {
      "cell_type": "markdown",
      "metadata": {
        "id": "lCZavukkPVcs"
      },
      "source": [
        "## Random action"
      ]
    },
    {
      "cell_type": "code",
      "execution_count": null,
      "metadata": {
        "colab": {
          "base_uri": "https://localhost:8080/",
          "height": 502
        },
        "id": "al8T5jyyPZhf",
        "outputId": "88158233-519c-4785-a871-4b050ed650d7"
      },
      "outputs": [
        {
          "output_type": "execute_result",
          "data": {
            "text/plain": [
              "<IPython.core.display.HTML object>"
            ],
            "text/html": [
              "\n",
              "  <video width=\"640\" height=\"480\" controls>\n",
              "    <source src=\"data:video/mp4;base64,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\" type=\"video/mp4\">\n",
              "  Your browser does not support the video tag.\n",
              "  </video>"
            ]
          },
          "metadata": {},
          "execution_count": 13
        }
      ],
      "source": [
        "env = KEYRGBImgObsWrapper(RandomKeyMEnv_10 (render_mode='rgb_array'))\n",
        "obs = env.reset()\n",
        "video_filename = '/content/vid.mp4'\n",
        "max_steps = 100\n",
        "# Evaluation\n",
        "with imageio.get_writer(video_filename, fps=10) as video:\n",
        "  obs = env.reset()\n",
        "  done = False\n",
        "  total_reward = 0\n",
        "  for step in range(max_steps):\n",
        "      action = env.action_space.sample()\n",
        "      obs, reward, done, _, _ = env.step(action)\n",
        "      next_obs = obs  # Get agent's position directly from the environment\n",
        "      video.append_data(env.render())\n",
        "      if done:\n",
        "        print(\"done\",\"reward=\", total_reward,\"num_of_steps=\",step)\n",
        "        break\n",
        "embed_mp4(video_filename)"
      ]
    },
    {
      "cell_type": "markdown",
      "metadata": {
        "id": "i0as3zwzUNsC"
      },
      "source": [
        "# Our Solution:"
      ]
    },
    {
      "cell_type": "markdown",
      "source": [
        "### Utils"
      ],
      "metadata": {
        "id": "EhiHxzBG5oKO"
      }
    },
    {
      "cell_type": "code",
      "source": [
        "def play_game_and_create_video(agent, video_output_file_name):\n",
        "  env = KEYRGBImgObsWrapper(RandomKeyMEnv_10 (render_mode='rgb_array'))\n",
        "  env = PreprocessWrapper(env)\n",
        "  obs = env.reset()[0]\n",
        "  max_steps = 100\n",
        "  # Evaluation\n",
        "  with imageio.get_writer(video_output_file_name, fps=10) as video:\n",
        "    obs = env.reset()[0]\n",
        "    state = obs\n",
        "    done = False\n",
        "    total_reward = 0\n",
        "    for step in range(max_steps):\n",
        "        action = agent.act(state)\n",
        "        obs, reward, done, _, _ = env.step(action)\n",
        "        state = obs  # Get agent's position directly from the environment\n",
        "        video.append_data(env.render())\n",
        "        if done:\n",
        "          print(\"done\",\"reward=\", total_reward,\"num_of_steps=\",step)\n",
        "          break"
      ],
      "metadata": {
        "id": "oRWO5u_75p-b"
      },
      "execution_count": null,
      "outputs": []
    },
    {
      "cell_type": "markdown",
      "metadata": {
        "id": "J98a9GofRZXx"
      },
      "source": [
        "\n",
        "### Preproccessing"
      ]
    },
    {
      "cell_type": "code",
      "execution_count": null,
      "metadata": {
        "id": "ejjsf_9PgUDk"
      },
      "outputs": [],
      "source": [
        "\n",
        "class PreprocessWrapper(gym.ObservationWrapper):\n",
        "    def __init__(self, env, resize_shape=(144, 144)):\n",
        "        super(PreprocessWrapper, self).__init__(env)\n",
        "        self.resize_shape = resize_shape\n",
        "\n",
        "         # Define observation space after preprocessing\n",
        "        self.observation_space = gym.spaces.Box(\n",
        "            low=0,\n",
        "            high=255,\n",
        "            shape=(self.resize_shape[0], self.resize_shape[1], 1),  # Grayscale image\n",
        "            dtype=np.uint8\n",
        "        )\n",
        "\n",
        "    def observation(self, obs):\n",
        "        # Convert RGB to grayscale\n",
        "        # print(f'obs.shape {obs.shape}')\n",
        "        cropped_obs = obs[32:-31, 32:-31]\n",
        "        # print(f'cropped obs.shape {cropped_obs.shape}')\n",
        "        obs_gray = cv2.cvtColor(cropped_obs, cv2.COLOR_RGB2GRAY)\n",
        "        # print(f'obs_gray.shape {obs_gray.shape}')\n",
        "        # Resize image\n",
        "\n",
        "\n",
        "        red_mask = np.all(cropped_obs == [0, 0, 255], axis=-1)  # Check for red pixels (BGR format)\n",
        "        blue_mask = np.all(cropped_obs == [255, 0, 0], axis=-1)  # Check for blue pixels (BGR format)\n",
        "        obs_gray[red_mask] = 100  # Replace red pixels with 0\n",
        "        obs_gray[blue_mask] = 255  # Replace blue pixels with 0\n",
        "\n",
        "        obs_resized = cv2.resize(obs_gray, self.resize_shape)\n",
        "\n",
        "        # Add channel dimension to make it (H, W, 1)\n",
        "        obs_resized = np.expand_dims(obs_resized, axis=0)\n",
        "        # print(obs_resized.shape)\n",
        "        return obs_resized\n",
        "\n",
        "\n",
        "    def step(self, action):\n",
        "        obs, reward, done, info, _ = self.env.step(action)\n",
        "        obs = self.observation(obs)\n",
        "        # reward = self.shape_reward(reward)\n",
        "        return obs, reward, done, info, _"
      ]
    },
    {
      "cell_type": "code",
      "execution_count": null,
      "metadata": {
        "colab": {
          "base_uri": "https://localhost:8080/"
        },
        "id": "JkmyEYAnqBm9",
        "outputId": "abb693a5-6a7a-4b4a-b176-190ac9cf4504"
      },
      "outputs": [
        {
          "output_type": "stream",
          "name": "stdout",
          "text": [
            "obs.shape is (320, 320, 3)\n",
            "obs.shape is (1, 144, 144)\n"
          ]
        },
        {
          "output_type": "execute_result",
          "data": {
            "text/plain": [
              "<matplotlib.image.AxesImage at 0x7f177b3af4f0>"
            ]
          },
          "metadata": {},
          "execution_count": 47
        },
        {
          "output_type": "display_data",
          "data": {
            "text/plain": [
              "<Figure size 1000x800 with 1 Axes>"
            ],
            "image/png": "[encoded data removed]"
          },
          "metadata": {}
        }
      ],
      "source": [
        "env = KEYRGBImgObsWrapper(RandomKeyMEnv_10 (render_mode='rgb_array'))\n",
        "obs = env.reset()[0]\n",
        "\n",
        "print(f'obs.shape is {obs.shape}')\n",
        "env = PreprocessWrapper(env)\n",
        "obs = env.reset()[0]\n",
        "obs = env.step(0)[0]\n",
        "print(f'obs.shape is {obs.shape}')\n",
        "plt.imshow(obs[0], cmap='gray')"
      ]
    },
    {
      "cell_type": "code",
      "execution_count": null,
      "metadata": {
        "colab": {
          "base_uri": "https://localhost:8080/"
        },
        "id": "b8CkbKQcqXTw",
        "outputId": "ce01f261-87fe-48c6-971e-122eba7cf3d8"
      },
      "outputs": [
        {
          "output_type": "stream",
          "name": "stdout",
          "text": [
            "Number of actions: 5\n",
            "State size is: (1, 144, 144)\n"
          ]
        }
      ],
      "source": [
        "state_size = obs.shape  # Replace with your actual state size\n",
        "action_space = env.action_space\n",
        "num_actions = action_space.n\n",
        "print(f\"Number of actions: {num_actions}\")\n",
        "print(f\"State size is: {state_size}\")\n",
        "action_size = num_actions"
      ]
    },
    {
      "cell_type": "markdown",
      "metadata": {
        "id": "w-ce1fLeRg3a"
      },
      "source": [
        "### Network"
      ]
    },
    {
      "cell_type": "code",
      "execution_count": null,
      "metadata": {
        "colab": {
          "base_uri": "https://localhost:8080/"
        },
        "id": "7OEcrD-Crr3L",
        "outputId": "7a0878df-b21d-4a93-8964-5c921d5725b6"
      },
      "outputs": [
        {
          "output_type": "stream",
          "name": "stdout",
          "text": [
            "(1, 144, 144)\n",
            "zeros.shape: torch.Size([1, 1, 144, 144])\n",
            "QNetwork(\n",
            "  (conv): Sequential(\n",
            "    (0): Conv2d(1, 32, kernel_size=(8, 8), stride=(4, 4))\n",
            "    (1): ReLU()\n",
            "    (2): Conv2d(32, 64, kernel_size=(4, 4), stride=(2, 2))\n",
            "    (3): ReLU()\n",
            "    (4): Conv2d(64, 64, kernel_size=(3, 3), stride=(1, 1))\n",
            "    (5): ReLU()\n",
            "  )\n",
            "  (fc): Sequential(\n",
            "    (0): Linear(in_features=12544, out_features=512, bias=True)\n",
            "    (1): ReLU()\n",
            "    (2): Linear(in_features=512, out_features=5, bias=True)\n",
            "  )\n",
            ")\n"
          ]
        }
      ],
      "source": [
        "class QNetwork(nn.Module):\n",
        "\n",
        "    def __init__(self, state_size, action_size, seed):\n",
        "        super(QNetwork, self).__init__()\n",
        "        self.seed = torch.manual_seed(seed)\n",
        "        print(state_size)\n",
        "        self.conv = nn.Sequential(\n",
        "            nn.Conv2d(1, 32, kernel_size=8, stride=4),\n",
        "            nn.ReLU(),\n",
        "            nn.Conv2d(32, 64, kernel_size=4, stride=2),\n",
        "            nn.ReLU(),\n",
        "            nn.Conv2d(64, 64, kernel_size=3, stride=1),\n",
        "            nn.ReLU()\n",
        "        )\n",
        "\n",
        "        zeros = torch.zeros(1, *state_size)\n",
        "        print(f'zeros.shape: {zeros.shape}')\n",
        "        conv_out_size = self.conv(zeros).view(1, -1).size(1)\n",
        "\n",
        "        self.fc = nn.Sequential(\n",
        "            nn.Linear(conv_out_size, 512),\n",
        "            nn.ReLU(),\n",
        "            nn.Linear(512, action_size)\n",
        "        )\n",
        "\n",
        "    def forward(self, state):\n",
        "        \"\"\"Build a network that maps state -> action values.\"\"\"\n",
        "        # print(f'state.shape: {state.shape}')\n",
        "        # print(f'self.conv(state): {self.conv(state).shape}')\n",
        "        # print(f'self.conv(state).view(state.size()[0], -1): {self.conv(state).view(state.size()[0], -1).shape}')\n",
        "\n",
        "        conv_out = self.conv(state).view(state.size()[0], -1)\n",
        "        return self.fc(conv_out)\n",
        "\n",
        "model = QNetwork(state_size, action_size, 0)\n",
        "print(model)"
      ]
    },
    {
      "cell_type": "code",
      "execution_count": null,
      "metadata": {
        "id": "RE6IZvRPuuLE"
      },
      "outputs": [],
      "source": [
        "#BUFFER SIZE VERY IMPORTANT TO BE LARGE FOR CONVERGENCE\n",
        "REPLAY_BUFFER_SIZE =    10000    #@param {type:\"number\"}\n",
        "BATCH_SIZE         =    64       # minibatch size\n",
        "GAMMA              =    0.9     # discount factor\n",
        "SOFT_UPDATE_RATE   =    1e-3     # for soft update of target parameters\n",
        "LEARNING_RATE      =    5e-4     # learning rate\n",
        "UPDATE_EVERY       =    5        #@param {type:\"slider\", min:5, max:50}"
      ]
    },
    {
      "cell_type": "code",
      "execution_count": null,
      "metadata": {
        "colab": {
          "base_uri": "https://localhost:8080/"
        },
        "id": "L5vxmXffDb4g",
        "outputId": "ec6d1fe5-4e10-49b6-e660-7d1543d8dfd7"
      },
      "outputs": [
        {
          "output_type": "stream",
          "name": "stdout",
          "text": [
            "cuda:0\n"
          ]
        }
      ],
      "source": [
        "device = torch.device(\"cuda:0\" if torch.cuda.is_available() else \"cpu\")\n",
        "print(device)"
      ]
    },
    {
      "cell_type": "markdown",
      "metadata": {
        "id": "SZf8SSbGFLH1"
      },
      "source": [
        "###Agent"
      ]
    },
    {
      "cell_type": "code",
      "execution_count": null,
      "metadata": {
        "id": "RXwI8h69Dd1n"
      },
      "outputs": [],
      "source": [
        "class ReplayBuffer:\n",
        "\n",
        "  def __init__(self, action_size, buffer_size, batch_size, seed):\n",
        "    self.action_size = action_size\n",
        "    self.memory = deque(maxlen=buffer_size)\n",
        "    self.batch_size = batch_size\n",
        "    self.experience = namedtuple(\"Experience\", field_names=[\"state\", \"action\", \"reward\", \"next_state\", \"done\"])\n",
        "    self.seed = random.seed(seed)\n",
        "\n",
        "  def add(self, state, action, reward, next_state, done):\n",
        "    e = self.experience(state, action, reward, next_state, done)\n",
        "    self.memory.append(e)\n",
        "\n",
        "  def sample(self):\n",
        "    experiences = random.sample(self.memory, k=self.batch_size)\n",
        "\n",
        "    states = torch.from_numpy(np.vstack([e.state for e in experiences if e is not None])).float().to(device)\n",
        "    actions = torch.from_numpy(np.vstack([e.action for e in experiences if e is not None])).long().to(device)\n",
        "    rewards = torch.from_numpy(np.vstack([e.reward for e in experiences if e is not None])).float().to(device)\n",
        "    next_states = torch.from_numpy(np.vstack([e.next_state for e in experiences if e is not None])).float().to(device)\n",
        "    dones = torch.from_numpy(np.vstack([e.done for e in experiences if e is not None]).astype(np.uint8)).float().to(device)\n",
        "\n",
        "    return (states, actions, rewards, next_states, dones)\n",
        "\n",
        "  def __len__(self):\n",
        "    return len(self.memory)"
      ]
    },
    {
      "cell_type": "code",
      "execution_count": null,
      "metadata": {
        "id": "PHF8GKFDFH-4"
      },
      "outputs": [],
      "source": [
        "#Agent\n",
        "\n",
        "class Agent():\n",
        "  def __init__(self, state_size, action_size, seed):\n",
        "    \"\"\"Initialize an Agent object.\n",
        "\n",
        "    Params\n",
        "    ======\n",
        "        state_size (int): dimension of each state\n",
        "        action_size (int): dimension of each action\n",
        "        seed (int): random seed\n",
        "    \"\"\"\n",
        "    self.state_size = state_size\n",
        "    self.action_size = action_size\n",
        "    self.seed = random.seed(seed)\n",
        "    # Q-Network\n",
        "    self.qnetwork_local = QNetwork(state_size, action_size, seed).to(device)\n",
        "    self.qnetwork_target = QNetwork(state_size, action_size, seed).to(device)\n",
        "\n",
        "    self.optimizer = optim.Adam(self.qnetwork_local.parameters(), lr=LEARNING_RATE)\n",
        "\n",
        "    # Replay memory\n",
        "    self.memory = ReplayBuffer(action_size, REPLAY_BUFFER_SIZE, BATCH_SIZE, seed)\n",
        "\n",
        "    self.t_step = 0\n",
        "\n",
        "  def step(self, state, action, reward, next_state, done):\n",
        "    \"\"\"Save experience in replay memory, and use random sample from buffer to learn.\"\"\"\n",
        "\n",
        "\n",
        "    # Save experience in replay memory\n",
        "    self.memory.add(state, action, reward, next_state, done)\n",
        "\n",
        "    # Learn every UPDATE_EVERY time steps.\n",
        "    self.t_step = (self.t_step + 1) % UPDATE_EVERY\n",
        "\n",
        "    if self.t_step == 0:\n",
        "      # If enough samples are available in memory, get random subset and learn\n",
        "      if len(self.memory) > BATCH_SIZE:\n",
        "        experiences = self.memory.sample()\n",
        "        self.learn(experiences, GAMMA)\n",
        "\n",
        "  def act(self, state, eps=0.):\n",
        "    \"\"\"Returns actions for given state as per current policy.\n",
        "\n",
        "    Params\n",
        "    ======\n",
        "        state (array_like): current state\n",
        "\n",
        "        eps (float): epsilon, for epsilon-greedy action selection\n",
        "    \"\"\"\n",
        "\n",
        "\n",
        "    state = torch.from_numpy(state).float().unsqueeze(0).to(device)\n",
        "    self.qnetwork_local.eval()\n",
        "    with torch.no_grad():\n",
        "      action_values = self.qnetwork_local(state)\n",
        "\n",
        "    self.qnetwork_local.train()\n",
        "\n",
        "    # e-greedy explore/exploit\n",
        "    if random.random() > eps:\n",
        "      return np.argmax(action_values.cpu().data.numpy())\n",
        "\n",
        "    else:\n",
        "      return random.choice(np.arange(self.action_size))\n",
        "\n",
        "\n",
        "  def learn(self, experiences, gamma):\n",
        "    \"\"\"Update value parameters using given batch of experience tuples.\n",
        "\n",
        "    Params\n",
        "    ======\n",
        "        experiences (Tuple[torch.Tensor]): tuple of (s, a, r, s', done) tuples\n",
        "        gamma (float): discount factor\n",
        "    \"\"\"\n",
        "    states, actions, rewards, next_states, dones = experiences\n",
        "    # Get max predicted Q values (for next states) from target model\n",
        "\n",
        "    q_targets_next = self.qnetwork_target(next_states.unsqueeze(dim=1)).detach().max(1)[0].unsqueeze(1)\n",
        "\n",
        "    # Compute Q targets for current states\n",
        "    q_targets = rewards + (gamma * q_targets_next * (1 - dones))\n",
        "\n",
        "    # Get expected Q values from local model\n",
        "    q_expected = self.qnetwork_local(states.unsqueeze(dim=1)).gather(1, actions)\n",
        "\n",
        "    loss = F.mse_loss(q_expected, q_targets)\n",
        "    # loss = nn.HuberLoss(delta=1.0)\n",
        "\n",
        "    # Minimize the loss\n",
        "    self.optimizer.zero_grad()\n",
        "    loss.backward()\n",
        "    self.optimizer.step()\n",
        "\n",
        "    # ------------------- update target network ------------------- #\n",
        "    self.soft_update(self.qnetwork_local, self.qnetwork_target, SOFT_UPDATE_RATE)\n",
        "\n",
        "  def soft_update(self, local_model, target_model, SOFT_UPDATE_RATE):\n",
        "    for target_param, local_param in zip(target_model.parameters(), local_model.parameters()):\n",
        "      target_param.data.copy_(SOFT_UPDATE_RATE*local_param.data + (1.0-SOFT_UPDATE_RATE)*target_param.data)\n",
        "\n"
      ]
    },
    {
      "cell_type": "code",
      "execution_count": null,
      "metadata": {
        "id": "CDCPEunSONxK"
      },
      "outputs": [],
      "source": [
        "\n",
        "def dqn(agent, n_episodes=10000, max_t=100, eps_start=1.0, eps_end=0.01, eps_decay=0.995, document_epsiodes=[]):\n",
        "  scores = []                        # list containing scores from each episode\n",
        "  scores_window = deque(maxlen=100)  # last 100 scores\n",
        "  steps_window = deque(maxlen=100)\n",
        "  steps = []\n",
        "  eps = eps_start                    # initialize epsilon\n",
        "  for i_episode in range(1, n_episodes+1):\n",
        "    initial_state, _ = env.reset()\n",
        "    state = np.reshape(initial_state, [*state_size])\n",
        "    score = 0\n",
        "    step = 0\n",
        "    for t in range(max_t):\n",
        "      action = agent.act(state, eps)\n",
        "      next_state, reward, done, _, _ = env.step(action)\n",
        "      next_state = np.reshape(next_state, [*state_size])\n",
        "      agent.step(state, action, reward, next_state, done)\n",
        "      state = next_state\n",
        "      score += reward\n",
        "      if done:\n",
        "        break\n",
        "      step += 1\n",
        "\n",
        "    steps_window.append(step)\n",
        "    steps.append(step)\n",
        "\n",
        "    scores_window.append(score)       # save most recent score\n",
        "    scores.append(score)              # save most recent score\n",
        "    eps = max(eps_end, eps_decay*eps) # decrease epsilon\n",
        "    print('\\rEpisode {}\\tAverage Score: {:.8f}'.format(i_episode, np.mean(scores_window)), end=\"\")\n",
        "    if i_episode % 100 == 0:\n",
        "      print('\\rEpisode {}\\tAverage Score: {:.8f}\\t Average Steps: {:.3f}\\t  Epsilon {:.5f}'.format(i_episode,  np.mean(scores_window), np.mean(steps_window), eps))\n",
        "    if i_episode in document_epsiodes:\n",
        "      play_game_and_create_video(agent, f'/content/vid_{i_episode}.mp4')\n",
        "  return scores, steps"
      ]
    },
    {
      "cell_type": "markdown",
      "metadata": {
        "id": "NU9rhrTjALnu"
      },
      "source": [
        "### Training"
      ]
    },
    {
      "cell_type": "code",
      "execution_count": null,
      "metadata": {
        "colab": {
          "base_uri": "https://localhost:8080/"
        },
        "id": "BG0T9fmbi16t",
        "outputId": "9231bb4d-0177-407e-ee27-7cd2306ba5f2"
      },
      "outputs": [
        {
          "output_type": "stream",
          "name": "stdout",
          "text": [
            "(1, 144, 144)\n",
            "zeros.shape: torch.Size([1, 1, 144, 144])\n",
            "(1, 144, 144)\n",
            "zeros.shape: torch.Size([1, 1, 144, 144])\n",
            "Episode 100\tAverage Score: -89.29600000\t Average Steps: 100.000\t  Epsilon 0.95122\n",
            "Episode 200\tAverage Score: -87.95460000\t Average Steps: 100.000\t  Epsilon 0.90481\n",
            "Episode 300\tAverage Score: -80.94720000\t Average Steps: 100.000\t  Epsilon 0.86068\n",
            "Episode 400\tAverage Score: -73.26680000\t Average Steps: 100.000\t  Epsilon 0.81869\n",
            "Episode 500\tAverage Score: -66.09060000\t Average Steps: 100.000\t  Epsilon 0.77875\n",
            "Episode 600\tAverage Score: -62.62800000\t Average Steps: 100.000\t  Epsilon 0.74076\n",
            "Episode 700\tAverage Score: -54.91460000\t Average Steps: 98.810\t  Epsilon 0.70463\n",
            "Episode 800\tAverage Score: -53.23920000\t Average Steps: 98.270\t  Epsilon 0.67025\n",
            "Episode 900\tAverage Score: -38.53580000\t Average Steps: 88.200\t  Epsilon 0.63756\n",
            "Episode 1000\tAverage Score: -28.42740000\t Average Steps: 82.780\t  Epsilon 0.60645\n",
            "Episode 1100\tAverage Score: -19.79640000\t Average Steps: 68.500\t  Epsilon 0.57687\n",
            "Episode 1200\tAverage Score: -19.96580000\t Average Steps: 67.700\t  Epsilon 0.54873\n",
            "Episode 1300\tAverage Score: -15.17700000\t Average Steps: 60.800\t  Epsilon 0.52196\n",
            "Episode 1400\tAverage Score: -11.68980000\t Average Steps: 57.070\t  Epsilon 0.49650\n",
            "Episode 1500\tAverage Score: -10.54260000\t Average Steps: 52.950\t  Epsilon 0.47228\n",
            "done reward= 0 num_of_steps= 18\n",
            "Episode 1600\tAverage Score: -8.61320000\t Average Steps: 49.100\t  Epsilon 0.44924\n",
            "Episode 1700\tAverage Score: -6.94000000\t Average Steps: 46.090\t  Epsilon 0.42732\n",
            "Episode 1800\tAverage Score: -3.92840000\t Average Steps: 42.420\t  Epsilon 0.40648\n",
            "Episode 1900\tAverage Score: -2.55860000\t Average Steps: 39.930\t  Epsilon 0.38665\n",
            "Episode 2000\tAverage Score: -1.02440000\t Average Steps: 37.240\t  Epsilon 0.36779\n",
            "Episode 2100\tAverage Score: -2.01220000\t Average Steps: 37.960\t  Epsilon 0.34985\n",
            "Episode 2200\tAverage Score: -0.87260000\t Average Steps: 36.270\t  Epsilon 0.33278\n",
            "Episode 2300\tAverage Score: 1.00580000\t Average Steps: 32.180\t  Epsilon 0.31655\n",
            "Episode 2400\tAverage Score: 0.17460000\t Average Steps: 34.310\t  Epsilon 0.30110\n",
            "Episode 2500\tAverage Score: 0.41620000\t Average Steps: 34.080\t  Epsilon 0.28642\n",
            "Episode 2600\tAverage Score: -0.04740000\t Average Steps: 32.750\t  Epsilon 0.27244\n",
            "Episode 2700\tAverage Score: 2.32140000\t Average Steps: 30.050\t  Epsilon 0.25915\n",
            "Episode 2800\tAverage Score: 2.18560000\t Average Steps: 30.320\t  Epsilon 0.24651\n",
            "Episode 2900\tAverage Score: 1.81100000\t Average Steps: 29.840\t  Epsilon 0.23449\n",
            "Episode 3000\tAverage Score: 2.56560000\t Average Steps: 28.870\t  Epsilon 0.22305\n",
            "Episode 3100\tAverage Score: 2.88120000\t Average Steps: 28.550\t  Epsilon 0.21217\n",
            "Episode 3200\tAverage Score: 2.97140000\t Average Steps: 28.830\t  Epsilon 0.20182\n",
            "Episode 3300\tAverage Score: 2.78280000\t Average Steps: 27.550\t  Epsilon 0.19197\n",
            "Episode 3400\tAverage Score: 3.94360000\t Average Steps: 26.530\t  Epsilon 0.18261\n",
            "Episode 3500\tAverage Score: 4.83160000\t Average Steps: 24.950\t  Epsilon 0.17370\n"
          ]
        }
      ],
      "source": [
        "agent = Agent(state_size, action_size, seed=0)\n",
        "scores, steps = dqn(agent,n_episodes=3500, max_t=100, eps_start=1.0, eps_end=0.01, eps_decay=0.9995, document_epsiodes=[500, 1000, 1500])"
      ]
    },
    {
      "cell_type": "code",
      "execution_count": null,
      "metadata": {
        "id": "Qlisr6b8yCiz"
      },
      "outputs": [],
      "source": [
        "np.savetxt('/content/drive/MyDrive/RL_MODELS/OPTIMAL_eps_09995_gamma_09_buffer_10k_scores.txt', np.array(scores), fmt='%d')\n",
        "np.savetxt('/content/drive/MyDrive/RL_MODELS/OPTIMAL_eps_09995_gamma_09_buffer_10k_steps.txt', np.array(steps), fmt='%d')\n",
        "torch.save(agent.qnetwork_local.state_dict(), 'OPTIMAL_eps_09995_gamma_09_buffer_10k.pth')"
      ]
    },
    {
      "cell_type": "code",
      "execution_count": null,
      "metadata": {
        "id": "VinNufB-BEa2",
        "colab": {
          "base_uri": "https://localhost:8080/",
          "height": 696
        },
        "outputId": "dd58e968-2928-4d92-c949-0c3c6ff7ebcf"
      },
      "outputs": [
        {
          "output_type": "display_data",
          "data": {
            "text/plain": [
              "<Figure size 1000x800 with 1 Axes>"
            ],
            "image/png": "[encoded data removed]"
          },
          "metadata": {}
        }
      ],
      "source": [
        "# plot the scores\n",
        "fig = plt.figure()\n",
        "ax = fig.add_subplot(111)\n",
        "plt.plot(np.arange(len(scores)), scores)\n",
        "plt.ylabel('Score')\n",
        "plt.xlabel('Episode #')\n",
        "plt.show()"
      ]
    },
    {
      "cell_type": "code",
      "execution_count": null,
      "metadata": {
        "id": "wgNp937zsogL",
        "colab": {
          "base_uri": "https://localhost:8080/",
          "height": 696
        },
        "outputId": "8af144b1-7cc2-4c52-e3ff-1506aa5022b6"
      },
      "outputs": [
        {
          "output_type": "display_data",
          "data": {
            "text/plain": [
              "<Figure size 1000x800 with 1 Axes>"
            ],
            "image/png": "[encoded data removed]"
          },
          "metadata": {}
        }
      ],
      "source": [
        "# plot the steps\n",
        "fig = plt.figure()\n",
        "ax = fig.add_subplot(111)\n",
        "plt.plot(np.arange(len(steps)), steps)\n",
        "plt.ylabel('Total Steps')\n",
        "plt.xlabel('Episode #')\n",
        "plt.show()"
      ]
    },
    {
      "cell_type": "markdown",
      "source": [
        "## Videos"
      ],
      "metadata": {
        "id": "uC7aDH4NzryU"
      }
    },
    {
      "cell_type": "code",
      "execution_count": null,
      "metadata": {
        "colab": {
          "base_uri": "https://localhost:8080/"
        },
        "id": "DQAi6Y1DAc2O",
        "outputId": "cbabbe1a-42b1-4d2b-e6b0-1a231417b42e"
      },
      "outputs": [
        {
          "output_type": "execute_result",
          "data": {
            "text/plain": [
              "QNetwork(\n",
              "  (conv): Sequential(\n",
              "    (0): Conv2d(1, 32, kernel_size=(8, 8), stride=(4, 4))\n",
              "    (1): ReLU()\n",
              "    (2): Conv2d(32, 64, kernel_size=(4, 4), stride=(2, 2))\n",
              "    (3): ReLU()\n",
              "    (4): Conv2d(64, 64, kernel_size=(3, 3), stride=(1, 1))\n",
              "    (5): ReLU()\n",
              "  )\n",
              "  (fc): Sequential(\n",
              "    (0): Linear(in_features=12544, out_features=512, bias=True)\n",
              "    (1): ReLU()\n",
              "    (2): Linear(in_features=512, out_features=5, bias=True)\n",
              "  )\n",
              ")"
            ]
          },
          "metadata": {},
          "execution_count": 61
        }
      ],
      "source": [
        "agent.qnetwork_local.eval()  # Set the network to evaluation mode if you're using it for inference"
      ]
    },
    {
      "cell_type": "markdown",
      "source": [
        "### Video with trained solver"
      ],
      "metadata": {
        "id": "AmQLGkzt4KIS"
      }
    },
    {
      "cell_type": "code",
      "source": [
        "play_game_and_create_video(agent, '/content/vid_trained.mp4')\n",
        "embed_mp4('/content/vid_trained.mp4')"
      ],
      "metadata": {
        "colab": {
          "base_uri": "https://localhost:8080/",
          "height": 519
        },
        "id": "HtI9AQe34NBz",
        "outputId": "c3135f53-e076-43e4-a99d-1d823a42bbd4"
      },
      "execution_count": null,
      "outputs": [
        {
          "output_type": "stream",
          "name": "stdout",
          "text": [
            "done reward= 0 num_of_steps= 26\n"
          ]
        },
        {
          "output_type": "execute_result",
          "data": {
            "text/plain": [
              "<IPython.core.display.HTML object>"
            ],
            "text/html": [
              "\n",
              "  <video width=\"640\" height=\"480\" controls>\n",
              "    <source src=\"data:video/mp4;base64,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\" type=\"video/mp4\">\n",
              "  Your browser does not support the video tag.\n",
              "  </video>"
            ]
          },
          "metadata": {},
          "execution_count": 62
        }
      ]
    },
    {
      "cell_type": "markdown",
      "source": [
        "### Videos from training in progress"
      ],
      "metadata": {
        "id": "bfVUcMma4Ag9"
      }
    },
    {
      "cell_type": "markdown",
      "source": [
        "#### Video after 500 episodes training"
      ],
      "metadata": {
        "id": "ghm0DHkY23DG"
      }
    },
    {
      "cell_type": "code",
      "execution_count": null,
      "metadata": {
        "id": "nAGcircgBKkW",
        "colab": {
          "base_uri": "https://localhost:8080/",
          "height": 502
        },
        "outputId": "a1f36bc3-491a-4527-f219-06c6c2bdcfb0"
      },
      "outputs": [
        {
          "output_type": "execute_result",
          "data": {
            "text/plain": [
              "<IPython.core.display.HTML object>"
            ],
            "text/html": [
              "\n",
              "  <video width=\"640\" height=\"480\" controls>\n",
              "    <source src=\"data:video/mp4;base64,AAAAIGZ0eXBpc29tAAACAGlzb21pc28yYXZjMW1wNDEAAAAIZnJlZQAAFHhtZGF0AAACrwYF//+r3EXpvebZSLeWLNgg2SPu73gyNjQgLSBjb3JlIDE2MyByMzA2MCA1ZGI2YWE2IC0gSC4yNjQvTVBFRy00IEFWQyBjb2RlYyAtIENvcHlsZWZ0IDIwMDMtMjAyMSAtIGh0dHA6Ly93d3cudmlkZW9sYW4ub3JnL3gyNjQuaHRtbCAtIG9wdGlvbnM6IGNhYmFjPTEgcmVmPTMgZGVibG9jaz0xOjA6MCBhbmFseXNlPTB4MzoweDExMyBtZT1oZXggc3VibWU9NyBwc3k9MSBwc3lfcmQ9MS4wMDowLjAwIG1peGVkX3JlZj0xIG1lX3JhbmdlPTE2IGNocm9tYV9tZT0xIHRyZWxsaXM9MSA4eDhkY3Q9MSBjcW09MCBkZWFkem9uZT0yMSwxMSBmYXN0X3Bza2lwPTEgY2hyb21hX3FwX29mZnNldD0tMiB0aHJlYWRzPTEwIGxvb2thaGVhZF90aHJlYWRzPTEgc2xpY2VkX3RocmVhZHM9MCBucj0wIGRlY2ltYXRlPTEgaW50ZXJsYWNlZD0wIGJsdXJheV9jb21wYXQ9MCBjb25zdHJhaW5lZF9pbnRyYT0wIGJmcmFtZXM9MyBiX3B5cmFtaWQ9MiBiX2FkYXB0PTEgYl9iaWFzPTAgZGlyZWN0PTEgd2VpZ2h0Yj0xIG9wZW5fZ29wPTAgd2VpZ2h0cD0yIGtleWludD0yNTAga2V5aW50X21pbj0xMCBzY2VuZWN1dD00MCBpbnRyYV9yZWZyZXNoPTAgcmNfbG9va2FoZWFkPTQwIHJjPWNyZiBtYnRyZWU9MSBjcmY9MjUuMCBxY29tcD0wLjYwIHFwbWluPTAgcXBtYXg9NjkgcXBzdGVwPTQgaXBfcmF0aW89MS40MCBhcT0xOjEuMDAAgAAABVJliIQAEf/+92ifApkgIqA5JXFJdtPgf+rZ3B8j+kDAAu41w/lrnKPfG6wJBZlQ5pWZApgCdFOFJ1zoZWmeYOn6povpAy/0Te+RiR2IGPCVEZNZqfB6X/eu+YguiQB93yEwaS8LJDZ0zgT3rlMYm66h6fUhHKbEKvYhABoHGHZKOhILvZ6Uq9GPAQv9unHuguc7ofWM6uq4XOVUn3O3e6At8/OHw7SUhQEHMEMs6jVFgmmE4Wcuefgoiyl1PxV91h7YwAQif1LmuR3dyu2b4jiXc8Dhx0Syr9AARYx45c5vb895/0pR5g048ct3tMsA0yvlWasd8/5dp9h3RNgsQUvfV2sv52ZBi0WXgr5YjrCzYHwiSBjSf2DRnpiXyhbo4ajzyJVpsGmI77Op3mZAHZdccMmPUjdPvewqohnPA4hUqJHrinzDE1rHeSt1z9wlsuH16bmgpgF11JNvFva4K+k0+yz5NUD6+4v46njXF52JlS/DJMUiTJPdjPF/3XiMMvmxkfiFh1cJRQG9WArBGH+gnlqo45cK5H/zuRuij/VwO+l2Grh1FdT70O6rYcsJrb3ZMSWEmHn4NruJ0TPw5F3H45IX8Kn1GYheA/vpUcNFW8/03zUqcsvj8SEKtD8RLJ9X/l/rhPmT0zf2P4sml2xwDPmVBCEzIj/b+GbfdBrOX03T28AZuVJmqn+HKp87wnSbbhlWIK/DfCj/8Pj+TNJxAsX/wnsKd5YsJ8SHMAcgXrDCZ6p4799+Oe58EEk0NG0yt9n9tuZqEtii8NrY/kD67QNn7aXfhBU0xBnvhksXBLPLT9Z4I/dhm75Nv8KD4hKClsdZXVSFMtVqMfIbIXTcdo82Oa93kaf8flej7aB26OLo8I5Qrvc998ajLpQnR+e4zjxmvpwmwzaQj50y4hfJnEwHmfRawQ5qLE30bMBM+VH3wZOQs9XhhkEaqjKVb4BD1uHruA8d0cfeEQCcTDdLOX0PzDsESF099oZUUdPIsY1jaT5H2hlRR08ix/4nYRFSHOQYAWIDIUugAojRLne0ywC6w6vpp8LTF+ZJ+4Cw1eSecZD0EkrcGDWxLJ2iuzEFF+EsVWfhdjOaAKbPfJDm58HsjS/Kuvvn6hGoGqAAY9sRTBRxw7H7ZfAFjUq8vyzf3FEKnTaBX10RffOD9+PbE4HagEtq6+F5/mKc3np1Q++0MqKOnkQWeURvp/huZ8mpgwYMgEPvqkw0e2eRCwyxsZfw5A1nL6IQQiGKu1jqDGo7JmAa6JScdnJcYY+TUwLcLioPK/fdBrOX1KJsj6NgAwLiyryz6kicvnWFkuzVv32WfJqYMh47MsSEhWoTYLECGdZNG5kO1dfC897yPnFRkO1dfC895sOAfQYPiAAGUbVid7RjsGaeMf32muzMISpLd7TLAL4s/9bRosxIotfdGfMqI6KCp3c4d0TYLECTGIGKox2DNPGP8B1WIQI/azwiF6AQqgjrv4bmfJqYM7HwAAAV6jGHNt5Z5T8mpgZUe29iks4P8OQNZy+ixXaXRo4RMf4cgazl9FoPDshv4cgazl9FvgHekS4wx8mpgZxlfw0WcO6JsFiBOT0ctKMsG5f1YgS6YRd81s6ACvrOqPP7l8LzhtDlKq4aiJUzkwFafZadz1a2mQ7V18Lz4bz8CbpRbV18Lz4X4aBIvUopkO1dfC8+HSd/UzIdq6+F58P5i87Mh190Z8ypU2YGB9oZUUdPIvL+0QTvr3Dio2XqVceN4/+iMRZOxZKYnAjuQAABlFCwITpflVNQlULFIyN0FQQd/UmiBLQA1obrbsyl04AAN6EAAAD4QZokbEEP/qmWAzayXYBPWZQD57SuQSP7MzeaGvlc+exzRYjvLJMER8RSoDrOmmwpsGACffVLmizKoAPR/bxr8UU88PJTwt/2Qm+Sz0xXVXki3hQGlF88YT1Srq4ELL3e1O9DByU1c+WFIzINJVnEv0ZXH1CSAtxYq6xh83UuDEaF7rv9dzh5ErqD2tSlw1ukMbI7L4zIVA9RgEYMBVmFNUC698HqTUorRG4Lgjp2d2uZEWzvU/U4SqInL+DS/B7BGhmmYGmW4p74ugKMPT5leM79feFjefabGRXsUs+ceijCd7obLHoxW6IZOBEeZ5nqjC2EUJ4q2fAAAADAQZ5CeId/ASnjWH9xyGsUAF1HAewEfVn/8tC5Jjb6ZPIBTFWBO2wtyD/c+zdF1mxUkvMNoDmYhSuZwPXwT8Q1Ns9z7Z3eEWsZ/SY5QvOEE3yJtvCqBoM6e1aPtnYyPzzW3Of0lqUtuQh7QThzmQtlCOAnl9gl0enquLbyWH36lBcU+YnFrWYQ2zu7LhC+VTi6C3TknYreqFKrNSGQP0DCOD9p61w0332xxPXqpA9bqkkLTqb4/Glwjhp6Hj42KiqhAAAAGAGeYXRDfwGVFz+EDNKmaYQ60sIHvkAm4AAAAK0BnmNqQ38AiNEaQQA2sgAJ29T+rmZ/+46l/dxOBm2x3+bEalm1wsZFWFx/yPFGKpZL2L/ol0mwtnu9PlfeRaq2RmJFy9yitEWbf0xS/LH3ITIvev5RIs3eSMav/+hXp053O9Jx8DWre3fYdCY2wvOmAyl9BpVFHrZAeZhl+nh1MkAqU9yvU7EgZJ8no3kQ+NmkZpNZHBvToR7H+9zLGe3MblNRPOV/zJleEUcP8QAAAIhBmmVJqEFomUwII//+qZYAt3ulLPrFKd+qEkw7tVtQf5V+F7iYuSvO/oRzQ+batnoE0CeuQhmnNWxKWoNL8qBREp3wyqyTVWBYqp/BA8bZmx6TB03v//+AWmTjA+TSwlqBW17gr4QPSSkZenIhWVkPkNiroV6nxQfHMhj9x52HVsuDD8hSbybhAAABWEGaiUnhClJlMCCP//6plgBvaRsxHHNAQKD9bK7CuvhkQGCIN6rQb/jZBU0FZBlcgNGMLtsZMTzk1YmEetPdMfQvBYZyA2AZLTKctVCNIWSCzLXyz18KQ0jh9wb27o247wlqji6MBwZl9TQaKlt4LYEl+dExrNL4WFWkHA3AnsREILbpECxOhZBaTN1Qi7PMI89Kuhthp1aefu6xMTeoqYv9Woitic0Br4ZMSgDnyqigI54CLHjBj9V+fE8mZdR6SlXY5tCCfgMzGJGaADPOL9XOxj/bkbpnSGQlmcdxQ3O8LqxTyNp0YcmVfW/4wZi0lwlKXvjE3qbw+gtCSMgIEqoZWowJf/0DXl36LaE/j4BozbCZpgKY1M1DAQIs7vYsK2paYb4M5wHlhoiygDMWdtrtFIsnVvh4AOqGSEFWOkk8IVeo6MnEbDoGJBg5J1GQF3P1oB4LTRjxAAAArEGep0U0TDv/AGH+BAtjwAIU8m0mJa//sXhKsBM5zuL7SPfWrYJ5A757tm3BfQZhfJs8rzMycj0XAEEHxRYxre936ey1XvnJjNAgoJMpKfjqhESygZz4de1JkX2TMLHQzJ/HO8NB3PuEXPmCa2yUvajxGn5AIoo6hZFunGX9Hzc6Dm3VzHc+l4G+/UG7tp43QHlQ4kKWnTzkqQBGC+FcWhLnEoiNWRld21gdK+EAAACpAZ7GdEN/AILFz3aHk0r6LuLAAnb1P6uZn/7jqX93D0lvf9yQXtt/MAu9MUUvcLiTDKVOkEeqyu/eVzycmyCjWywAuH23ZI8Vf0Wos49Y6So7OFRAKlOWuC2NyKw2JBG8c92ZZsWcd7JNE0nPB831D6eV86Ng0reGQZ+R4k7kuTSy83H8yes4bHlc80La11NDJ3hcQ0QVYY7KkxOEYAHKCwpKmw44dwHSvgAAAKkBnshqQ38Ae/IpwqAAuo7wEIRXf4/N0Wxfofg0yy9SNMhKXgTFSRSuwjJVG+cEiA2k0C/WsncM5APDxTnqG7X7T/xeS9fkPG+1PtgruDVHKua7SLp9DMGI7o/Vp/SoYqgE1ZKVE5s+9wVUcFrvJYIW+avt3e+4Qd2xAkYTSaGed+kZs/9KYuS7OOzvrhpmvYcXgtENYd7ldQsPjf7cfrd3cMXgw9s3QFTAAAAAE0GazUmoQWiZTAgj//6plgAACJkAAAAMQZ7rRREsO/8AAAd0AAAACgGfCnRDfwAACkgAAAAKAZ8MakN/AAAKSQAAABNBmxFJqEFsmUwII//+qZYAAAiZAAAADEGfL0UVLDv/AAAHdQAAAAoBn050Q38AAApIAAAACgGfUGpDfwAACkgAAAATQZtVSahBbJlMCCP//qmWAAAImQAAAAxBn3NFFSw7/wAAB3QAAAAKAZ+SdEN/AAAKSAAAAAoBn5RqQ38AAApJAAAAE0GbmUmoQWyZTAgj//6plgAACJgAAAAMQZ+3RRUsO/8AAAd1AAAACgGf1nRDfwAACkkAAAAKAZ/YakN/AAAKSAAAABNBm91JqEFsmUwII//+qZYAAAiZAAAADEGf+0UVLDv/AAAHdAAAAAoBnhp0Q38AAApJAAAACgGeHGpDfwAACkkAAAATQZoBSahBbJlMCCP//qmWAAAImAAAAAxBnj9FFSw7/wAAB3QAAAAKAZ5edEN/AAAKSQAAAAoBnkBqQ38AAApIAAAAE0GaRUmoQWyZTAgj//6plgAACJkAAAAMQZ5jRRUsO/8AAAd0AAAACgGegnRDfwAACkkAAAAKAZ6EakN/AAAKSQAAABNBmolJqEFsmUwII//+qZYAAAiZAAAADEGep0UVLDv/AAAHdQAAAAoBnsZ0Q38AAApIAAAACgGeyGpDfwAACkgAAAATQZrNSahBbJlMCCP//qmWAAAImQAAAAxBnutFFSw7/wAAB3QAAAAKAZ8KdEN/AAAKSAAAAAoBnwxqQ38AAApJAAAAE0GbEUmoQWyZTAgj//6plgAACJkAAAAMQZ8vRRUsO/8AAAd1AAAACgGfTnRDfwAACkgAAAAKAZ9QakN/AAAKSAAAABNBm1VJqEFsmUwII//+qZYAAAiZAAAADEGfc0UVLDv/AAAHdAAAAAoBn5J0Q38AAApIAAAACgGflGpDfwAACkkAAAATQZuZSahBbJlMCCP//qmWAAAImAAAAAxBn7dFFSw7/wAAB3UAAAAKAZ/WdEN/AAAKSQAAAAoBn9hqQ38AAApIAAAAE0Gb3UmoQWyZTAgj//6plgAACJkAAAAMQZ/7RRUsO/8AAAd0AAAACgGeGnRDfwAACkkAAAAKAZ4cakN/AAAKSQAAABNBmgFJqEFsmUwII//+qZYAAAiYAAAADEGeP0UVLDv/AAAHdAAAAAoBnl50Q38AAApJAAAACgGeQGpDfwAACkgAAAATQZpFSahBbJlMCCP//qmWAAAImQAAAAxBnmNFFSw7/wAAB3QAAAAKAZ6CdEN/AAAKSQAAAAoBnoRqQ38AAApJAAAAE0GaiUmoQWyZTAgj//6plgAACJkAAAAMQZ6nRRUsO/8AAAd1AAAACgGexnRDfwAACkgAAAAKAZ7IakN/AAAKSAAAABNBms1JqEFsmUwII//+qZYAAAiZAAAADEGe60UVLDv/AAAHdAAAAAoBnwp0Q38AAApIAAAACgGfDGpDfwAACkkAAAATQZsRSahBbJlMCCP//qmWAAAImQAAAAxBny9FFSw7/wAAB3UAAAAKAZ9OdEN/AAAKSAAAAAoBn1BqQ38AAApIAAAAE0GbVUmoQWyZTAgj//6plgAACJkAAAAMQZ9zRRUsO/8AAAd0AAAACgGfknRDfwAACkgAAAAKAZ+UakN/AAAKSQAAABNBm5lJqEFsmUwII//+qZYAAAiYAAAADEGft0UVLDv/AAAHdQAAAAoBn9Z0Q38AAApJAAAACgGf2GpDfwAACkgAAAATQZvdSahBbJlMCCH//qmWAAAImQAAAAxBn/tFFSw7/wAAB3QAAAAKAZ4adEN/AAAKSQAAAAoBnhxqQ38AAApJAAAAE0GaAUmoQWyZTAh///6nhAAAEPAAAAAMQZ4/RRUsO/8AAAd0AAAACgGeXnRDfwAACkkAAAAKAZ5AakN/AAAKSAAAABRBmkNJqEFsmUwUTDf//oywAABCwQAAAAoBnmJqQ38AAApIAAAH2W1vb3YAAABsbXZoZAAAAAAAAAAAAAAAAAAAA+gAACcQAAEAAAEAAAAAAAAAAAAAAAABAAAAAAAAAAAAAAAAAAAAAQAAAAAAAAAAAAAAAAAAQAAAAAAAAAAAAAAAAAAAAAAAAAAAAAAAAAAAAAAAAAIAAAcDdHJhawAAAFx0a2hkAAAAAwAAAAAAAAAAAAAAAQAAAAAAACcQAAAAAAAAAAAAAAAAAAAAAAABAAAAAAAAAAAAAAAAAAAAAQAAAAAAAAAAAAAAAAAAQAAAAAFAAAABQAAAAAAAJGVkdHMAAAAcZWxzdAAAAAAAAAABAAAnEAAACAAAAQAAAAAGe21kaWEAAAAgbWRoZAAAAAAAAAAAAAAAAAAAKAAAAZAAVcQAAAAAAC1oZGxyAAAAAAAAAAB2aWRlAAAAAAAAAAAAAAAAVmlkZW9IYW5kbGVyAAAABiZtaW5mAAAAFHZtaGQAAAABAAAAAAAAAAAAAAAkZGluZgAAABxkcmVmAAAAAAAAAAEAAAAMdXJsIAAAAAEAAAXmc3RibAAAAK5zdHNkAAAAAAAAAAEAAACeYXZjMQAAAAAAAAABAAAAAAAAAAAAAAAAAAAAAAFAAUAASAAAAEgAAAAAAAAAAQAAAAAAAAAAAAAAAAAAAAAAAAAAAAAAAAAAAAAAAAAAABj//wAAADRhdmNDAWQAFf/hABhnZAAVrNlBQKaEAAADAAQAAAMAUDxYtlgBAAVo6+csi/34+AAAAAAUYnRydAAAAAAAABBZAAAQWQAAABhzdHRzAAAAAAAAAAEAAABkAAAEAAAAABRzdHNzAAAAAAAAAAEAAAABAAADMGN0dHMAAAAAAAAAZAAAAAEAAAgAAAAAAQAAFAAAAAABAAAIAAAAAAEAAAAAAAAAAQAABAAAAAABAAAIAAAAAAEAABQAAAAAAQAACAAAAAABAAAAAAAAAAEAAAQAAAAAAQAAFAAAAAABAAAIAAAAAAEAAAAAAAAAAQAABAAAAAABAAAUAAAAAAEAAAgAAAAAAQAAAAAAAAABAAAEAAAAAAEAABQAAAAAAQAACAAAAAABAAAAAAAAAAEAAAQAAAAAAQAAFAAAAAABAAAIAAAAAAEAAAAAAAAAAQAABAAAAAABAAAUAAAAAAEAAAgAAAAAAQAAAAAAAAABAAAEAAAAAAEAABQAAAAAAQAACAAAAAABAAAAAAAAAAEAAAQAAAAAAQAAFAAAAAABAAAIAAAAAAEAAAAAAAAAAQAABAAAAAABAAAUAAAAAAEAAAgAAAAAAQAAAAAAAAABAAAEAAAAAAEAABQAAAAAAQAACAAAAAABAAAAAAAAAAEAAAQAAAAAAQAAFAAAAAABAAAIAAAAAAEAAAAAAAAAAQAABAAAAAABAAAUAAAAAAEAAAgAAAAAAQAAAAAAAAABAAAEAAAAAAEAABQAAAAAAQAACAAAAAABAAAAAAAAAAEAAAQAAAAAAQAAFAAAAAABAAAIAAAAAAEAAAAAAAAAAQAABAAAAAABAAAUAAAAAAEAAAgAAAAAAQAAAAAAAAABAAAEAAAAAAEAABQAAAAAAQAACAAAAAABAAAAAAAAAAEAAAQAAAAAAQAAFAAAAAABAAAIAAAAAAEAAAAAAAAAAQAABAAAAAABAAAUAAAAAAEAAAgAAAAAAQAAAAAAAAABAAAEAAAAAAEAABQAAAAAAQAACAAAAAABAAAAAAAAAAEAAAQAAAAAAQAAFAAAAAABAAAIAAAAAAEAAAAAAAAAAQAABAAAAAABAAAUAAAAAAEAAAgAAAAAAQAAAAAAAAABAAAEAAAAAAEAABQAAAAAAQAACAAAAAABAAAAAAAAAAEAAAQAAAAAAQAAFAAAAAABAAAIAAAAAAEAAAAAAAAAAQAABAAAAAABAAAMAAAAAAEAAAQAAAAAHHN0c2MAAAAAAAAAAQAAAAEAAABkAAAAAQAAAaRzdHN6AAAAAAAAAAAAAABkAAAICQAAAPwAAADEAAAAHAAAALEAAACMAAABXAAAALAAAACtAAAArQAAABcAAAAQAAAADgAAAA4AAAAXAAAAEAAAAA4AAAAOAAAAFwAAABAAAAAOAAAADgAAABcAAAAQAAAADgAAAA4AAAAXAAAAEAAAAA4AAAAOAAAAFwAAABAAAAAOAAAADgAAABcAAAAQAAAADgAAAA4AAAAXAAAAEAAAAA4AAAAOAAAAFwAAABAAAAAOAAAADgAAABcAAAAQAAAADgAAAA4AAAAXAAAAEAAAAA4AAAAOAAAAFwAAABAAAAAOAAAADgAAABcAAAAQAAAADgAAAA4AAAAXAAAAEAAAAA4AAAAOAAAAFwAAABAAAAAOAAAADgAAABcAAAAQAAAADgAAAA4AAAAXAAAAEAAAAA4AAAAOAAAAFwAAABAAAAAOAAAADgAAABcAAAAQAAAADgAAAA4AAAAXAAAAEAAAAA4AAAAOAAAAFwAAABAAAAAOAAAADgAAABcAAAAQAAAADgAAAA4AAAAYAAAADgAAABRzdGNvAAAAAAAAAAEAAAAwAAAAYnVkdGEAAABabWV0YQAAAAAAAAAhaGRscgAAAAAAAAAAbWRpcmFwcGwAAAAAAAAAAAAAAAAtaWxzdAAAACWpdG9vAAAAHWRhdGEAAAABAAAAAExhdmY1OC43Ni4xMDA=\" type=\"video/mp4\">\n",
              "  Your browser does not support the video tag.\n",
              "  </video>"
            ]
          },
          "metadata": {},
          "execution_count": 63
        }
      ],
      "source": [
        "embed_mp4('/content/vid_500.mp4')"
      ]
    },
    {
      "cell_type": "markdown",
      "source": [
        "#### Video after 1000 episodes training"
      ],
      "metadata": {
        "id": "aVzr7z1y3q2P"
      }
    },
    {
      "cell_type": "code",
      "execution_count": null,
      "metadata": {
        "id": "yMUPg5LP3q2Q",
        "colab": {
          "base_uri": "https://localhost:8080/",
          "height": 502
        },
        "outputId": "5f8fe9a2-9677-4c6a-b8e9-fae31149a51c"
      },
      "outputs": [
        {
          "output_type": "execute_result",
          "data": {
            "text/plain": [
              "<IPython.core.display.HTML object>"
            ],
            "text/html": [
              "\n",
              "  <video width=\"640\" height=\"480\" controls>\n",
              "    <source src=\"data:video/mp4;base64,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\" type=\"video/mp4\">\n",
              "  Your browser does not support the video tag.\n",
              "  </video>"
            ]
          },
          "metadata": {},
          "execution_count": 66
        }
      ],
      "source": [
        "embed_mp4('/content/vid_1000.mp4')"
      ]
    },
    {
      "cell_type": "markdown",
      "source": [
        "#### Video after 1500 episodes training"
      ],
      "metadata": {
        "id": "BY0LGPRG3rcs"
      }
    },
    {
      "cell_type": "code",
      "execution_count": null,
      "metadata": {
        "id": "M-FAQ2cj3rcs",
        "colab": {
          "base_uri": "https://localhost:8080/",
          "height": 502
        },
        "outputId": "d4e9e642-9885-44c2-a22c-34e7a0f0730d"
      },
      "outputs": [
        {
          "output_type": "execute_result",
          "data": {
            "text/plain": [
              "<IPython.core.display.HTML object>"
            ],
            "text/html": [
              "\n",
              "  <video width=\"640\" height=\"480\" controls>\n",
              "    <source src=\"data:video/mp4;base64,AAAAIGZ0eXBpc29tAAACAGlzb21pc28yYXZjMW1wNDEAAAAIZnJlZQAAE/9tZGF0AAACrwYF//+r3EXpvebZSLeWLNgg2SPu73gyNjQgLSBjb3JlIDE2MyByMzA2MCA1ZGI2YWE2IC0gSC4yNjQvTVBFRy00IEFWQyBjb2RlYyAtIENvcHlsZWZ0IDIwMDMtMjAyMSAtIGh0dHA6Ly93d3cudmlkZW9sYW4ub3JnL3gyNjQuaHRtbCAtIG9wdGlvbnM6IGNhYmFjPTEgcmVmPTMgZGVibG9jaz0xOjA6MCBhbmFseXNlPTB4MzoweDExMyBtZT1oZXggc3VibWU9NyBwc3k9MSBwc3lfcmQ9MS4wMDowLjAwIG1peGVkX3JlZj0xIG1lX3JhbmdlPTE2IGNocm9tYV9tZT0xIHRyZWxsaXM9MSA4eDhkY3Q9MSBjcW09MCBkZWFkem9uZT0yMSwxMSBmYXN0X3Bza2lwPTEgY2hyb21hX3FwX29mZnNldD0tMiB0aHJlYWRzPTEwIGxvb2thaGVhZF90aHJlYWRzPTEgc2xpY2VkX3RocmVhZHM9MCBucj0wIGRlY2ltYXRlPTEgaW50ZXJsYWNlZD0wIGJsdXJheV9jb21wYXQ9MCBjb25zdHJhaW5lZF9pbnRyYT0wIGJmcmFtZXM9MyBiX3B5cmFtaWQ9MiBiX2FkYXB0PTEgYl9iaWFzPTAgZGlyZWN0PTEgd2VpZ2h0Yj0xIG9wZW5fZ29wPTAgd2VpZ2h0cD0yIGtleWludD0yNTAga2V5aW50X21pbj0xMCBzY2VuZWN1dD00MCBpbnRyYV9yZWZyZXNoPTAgcmNfbG9va2FoZWFkPTQwIHJjPWNyZiBtYnRyZWU9MSBjcmY9MjUuMCBxY29tcD0wLjYwIHFwbWluPTAgcXBtYXg9NjkgcXBzdGVwPTQgaXBfcmF0aW89MS40MCBhcT0xOjEuMDAAgAAABRVliIQAEf/+92ifApkgIqA5JXFJdtPgf+rZ3B8j+kDAAu41w/lrnKPfG6wJBZlRAIN/+ABEUoWOpinkj4JTrhM2xpIUTNNfOvOzUbd4+yYrejePd0lX4jctrV5mte9zmkYgMWKQi8hl8nHpojr9yBMwX9ifia0Ox55lU5e9RjxMmrKYtvNl6hGDsTwmRTI6umv24gtZpIgSVwdGSqo3rqi6Wfp+gEqfhZvqj0R+2VOZ2CxUF1CUDoVq3OLc7Br/Ccy30wl7BjPiN/jvC0txpenejZHNFOiASDvtPnVP97x3UhjYC0QwQfyaC85DZvoEEU2s+C/AKg8vMkZZxbMbal2RDO4XC/QBQdL1YkTpnS2G+kt+eVyBlYTLcu7a9x09+pSUmhS2IIefuACyeQ1YVwhTUa7HVDPK2uCb3APkquHMXD2ANLhtKgYl70r++rH4ecnkoGmjIPlqHchbpk91/cSzfzobfGYVdD+ZJV+0BOCDHpKHLeMdwy88fyPU0QAQwfKqNRtyG7KwPyBAKpfjUgrwrVXyhS17qXG4P0pZSLSx0CpcWsOlBoeECh87luRwTyThRXB/vrgHHdOCy3xER8MNy04NonmujlQvZIlHHX3eom3hbwPMIYZwnDODptTwrbeZtP0VAQ/WtrcyB2V1Yw4f32/11dm007gkrC5EPAVPYxridp3B9dlimTXV4X2pxm67EyXgVEMfeQW5vFnsbEEHw/gKqlqNV8Q8i+yI3we9P5o1ZktpzfUp1Zuei4qkmn7LTpq+YmGqMCXaABun6o7rPnSa/bqJB7oPlz8sh1MbliIDDCVZod4rfzU7MDSsczevQDJZn7UpKpnqNwAFTzcZ/MQb6yPeOoZMZg2d8XZ2LV2Z4UWd8jvNf/aupLMlMGSNDEqyK3TO+/0fbRpna0t2WBzVextalHFYPiO0ynVAgKcZfPNTDJMPFn9Vyj8aYnHcJ2Beaktqx1T6R5Us3wvq0+G5E4J4nc2qfehFsQteyRg3BfY2U6xfHjf8ojrgIL2QYvtpQ2D3axpxFJHWcxrq/iKaGcHCyvGEM3knvQ8oNMEMU1PIZ0TgTp+iHu1Umow0VUpZ0DlrAnap2bOvJFiVhM8B/UzClzROvKPl1jX6sMgcazXfTbmV6ocViQuJc1i25pzyIXvqNagk2exiBuLWd4Ia1BJs9PF2raiJbUQRv3Ua1BJqzGKjoSJHUpxhDWoJNoBv6qk9Y6jWoJNntiDA9LyL6jWoJNntUIF6YAc1GtQSbPaN9FUAHalkr1viEEpFlwhkOhDEP2TtIM/488qLtKi7jr7RhouTb9lJraX1YfxpmzryRYhJvjBngclpl1VJvKqlW7RycmBFNDODhZVvZNiNYIpoZwcLjt2jobUZHZIHGs1pmCk0Kx+1t0RcgALPn4zQ9fpOOBZrTVT9UTqqSf1wZGyOaBSqUbsZn31koQYr2ab5+oJCOWX5Cg2hnBwsu9FrIuckDjWa76mJ8Tek1GtQSbPTyDiupoQ1qCTZ7LATwAFIBe2Y4QJzV4RZqTLvoEFr03VlFCMcwIU4178zozGDL1fQXbnDRdPUnHAs1319w0mYDbo2uWYwZer4wXG8AvLKBaphL2Ec0Ftf8oLzOnejZHNFK+5JjdLWAxXs03z96/Z9JID8jY3yKN9zezKXWZfp0MY78O+3/vmwIAAAAwDREWaIFhMeHTxt11hxqbg+Z+9lO2pBenYhHNB2A7Lh18ACOwAAAN5BmiRsQQ/+qZYCosicfEJwQATDtK4+8lTuLVeuo0f4TPM1v9BOIXXi/GQTdEqu+1GFP0jT99t2EM1EBlh9xN15tewVaQ9LmwmqvJFvCgNKL54wnqlXVwIWXu9qd6GDkpraD7N2Gxj5Ks0k1gICdY4sVdYw+bqXPXbDqBa+u5w8iVRB7rlN/my+zCxcAicGbFDvqmaOHzeszuSAY698NvIhRWiNwWu30Z3a5kOaP4Nxg4a+tlvxWOIIJTiNDm7B3ty8CqiGVgRWhxRZXh6fOLxmtSZmTjnTTV6K9i84R8AAAADBQZ5CeId/AQ/IoiTXqLkLAC3jgPYCPqz/+WhckwfZ/fE8p8h4j5KXeYXclk8VSLM2JmLHsyi1UJZBrAsrQKV4dKbH5vupF/3TDuQMgDhzD/glML2AUcP34k5tD0Mw824jWLx3JIOmQlQTuDGLfD7cd7m6jLJE6KVnCxims6P7plvjNOwwunNhN1Xd56jPCtZ4mJTSsq/GsKyEwV7K3pPOVK8iMN+xGw+mzgQnGPIb0sS6xZ9NqmeSQ9RilLiQcukXsQAAABQBnmF0Q38BetW/hAzUoF+Y0jZF7AAAAKUBnmNqQ38EObkzQqveDpA/NzBiOAD+eg7j1f//mjVH15V9bsrnTcb1IF1zosmSk7C5fXr993q6Kw2sH570v1AUjXdAxNnHk0CHLppaLWHPNc/B0A3o1vkfvY4x8tlKtNxpXIWH5HKD9wI9OjfIefCZdPlcNWVzstPOOxka/Oyrzeq/YKfDrwDIrhwOTMA2fbg4nZtFASA1+zKnixva2XKCZISBRH0AAAB+QZplSahBaJlMCCP//qmWALd7pSz6woLv1QkmFV92CqJ+DRqH0Ald8KsJ4G94cutEnG3PCcL+6gFAKShAAQov5aj3R8AeP13OpxK/YqBcJqKdF91kpHPiu/BUVEHd4IuhmIFzZdkpBdxZFXhYiSEQJUV8fxu63fm7fgfNd5NxAAAAyUGaiUnhClJlMCCP//6plgBvG7bGVz4gCo3wTJV20RdnpM0pChESd1Bb/1y+t4oyN2Pl2j0pzcawFMJgcoy1DY5yvB26Ii/3DKW3c16VvuuInzi73QlzKf64ckSCbwZI7Nx5zTwBNg0KH4+/D/HRxA27aSXeJYmEwdXXUQVlF3fnwg4H9NuiwRI2YCn/Yt0EuSewnENzAMpw7wOwbtBtWASzcAaRGqnVx9+TMu6g+xVT0L9t88bM8jXiq6ycF+ECGaQTAp/QJ4N3VwAAALRBnqdFNEw7/wBh/gQ+3YwAEKevsh0CP/3HUv8OHoxSln8GnLZy5dDu8sZG5HFBs4gpr56NLFstE+foG/VQROTGqDGYwofvItVbovzhAfSvcedo2OOB+n+hT1Swj2GELbdYJuiQtcF5WdgZLEzVmsIOaD4QvliLJQRTwg9I0k08JmH/gW0/K8Z45uadP7iddcnagA14VmxPXJjnNR4QLqu/AitAJQmfnG+iwo7ncIZMT8BAMCEAAACpAZ7GdEN/AILFz9ngsACdvU/rFDP/7jqX93D1YkpSPBuV2cmXQ2jJObVlI/Sd5cmLci+WHSCEjucfzA6TBn/lHLdZqk3kFlpSiEzgGSnjPO43zTiu2IYeapYRoapotJsvLb5H1v+U99BtYZBd+0KTGe0Gu9sJ/P4c/0spG3BW5m1p1tVuj3ZFtn2cwy4ZZgZvJAs1M9kdjqKz1KpPLyJe8r8QKImDS6w6YAAAAK4BnshqQ38Adr3rp4LAAnb1P6xQz/+46l/dw9WKUpHg25TOTLobRknNqykfpO8uTFuRfLDpBCR3OP5gdJgz/yjlc0/7vwj1335iavI7r6d8y6HFdsQw81SwlGgUUexY53aMyOXU7B9KR+Fru+4bc6bjE7BrvbCUK9HY5qweWcIZUz6XMjdqd1DzBQM5nAGpXisOWsY2DVCmoli83nI8ajp+jZUt0UNybw1/M/DpGXAAAACyQZrNSahBaJlMCCH//qmWAFuCaK4UsDkdmrPpEYAMu9PL6SZ/+tPrcVPO2+vIx+5yWqfiRp9CHCs1//5Xh0DNv/X4DntySiXVEHCquOKVaQMXpzRt/+ysmpotc/BkX46FGO7fmKhU8Ie3XBDmk7Xg9zk0xaGU1zxTBDOWlBK19mRHh8SXH21Db68rkWiQ3ItxoYasSpYqGGTiiZXHZ89CRWNYgQYzrsFi3eftGXGF4OkfcQAAALFBnutFESw7/wBPlBgO/juACIPX2Q6BH/7jqX+HD0YpSz+DTls5cuh3eWMjcjig2cQU189Gli2WifP0DfqoInJjVBjMYUP3kWqt0X5wgPpXuPO0bHHA/T/Qp6pYR7DCFtpgp5B4ys7B9K7NWawg5oPhC+WE1WVdhgGOgxaFg8M4QyJb0uZG2l/qHmCiYIFoLvN5cnrkxzma7DAfvN82u1G2LXkGaMF0JvDXtqTKLVE4hvQAAACtAZ8KdEN/AGv70pHgsACdvU/rFDP/7jqX93D1YpSkeDblM5Muh3eWMjcjigELC5MW5F8sOkEJHc4/mB0mDP/KOVzT/u/CPXffmJq8mVT87Rgx/DC0PanqlhKNAoo9kDp3tdd5dTsH0pH4Wu77htzpuMTdjzljJdonjHNWDyzhDKmfS5kbtTuoeYKBnM4A1K8Vhy1jGwZroMCdmo5HjUdP0bKluihuTeGv5sHaRvwAAACiAZ8MakN/AGCyfFThkL4ACdvG4ceL//9oqXtbLCxuWt8S8UimbXFux/yTsMaTOGvfpJUasEj83HYgzE2vq3okJ/g9ab05OKqY5KRwPLxdkytGIkc/heXLooyu0NAajjfKdtW8bpgBNYwVAvhxq0QK8HG8NGrZZatPgPYqayuoYz+usACm2d1x40uYdV+AvXke/DILpfucCY4R9C1/FJYeMm2pAAAAtkGbEUmoQWyZTAh3//6eEADiKwAnVhTseEoTSrq0Qh2qRgAQjjVEnTyhElyB+rf7ER3TmPA+4yX4kcOazBH3gYbQHMxClczu5p+yaGqDhAYAt65KE3NlJktzRQAPLMWnLyhDN54ePp7w2+7K0LpK8gJhcp0RyuRUuxHMzcfAiMNJ8qQ0t83tcQYJ2j3ATpddUOglBghKrDZNsRTbh60r3CMcFEQErGI1EWfHNHB5MSx399xigkoZAAAArUGfL0UVLDv/ABm/gP7Hl5N7e2KACIPJtJuL//9oqXtrOu3p4YmZU5kHLoe+kKXWYI+8DDaA5mIUrmcCNHHiGqDhAYHCqGUjl5ys6h/ul5bEZABzklpDQrpzw8fT3ht92VoXSV5ATK0jOJeMVUuwcdo7WlBLQJ5akVSGmPtqCW04do9wE6YH8VjG0hUsVC6MYcg4vu+qo/WNYgNeAvKIusefqUKGB4Iqpq1BnM1VAAAAqQGfTnRDfwAisXP4Xs1nLxAA/njcOJLX/9oqXtbIGPp3YmZcMkDLoe+kKXWYI9Rj9AKuc+eW71u0PvdAfmginBqGWOrtq59j/Aa/0RkAHL47kFCunPDwjl+4+kAdLcu3vf084A36V1pS7CqA/taUES4nobMpE26f4MacAVGA6oc5FEvgb0V1SxULm2ZwaC1+KiPaxpsBdxiU3NLd5+kwbheyrGtgMcQg1nAAAACvAZ9QakN/AAR2czk28INN1O/6hPmAA+EOnDafqYbDN+HdlyiIrlKM443yJfiRw5rMEenJt8XRSxd7d93FmGc7oD83UcFnXIVnZLa7Wl3w70y4ckbFLKjQrpzw8I5lcgqAPsGSSwzjLA64Uq8gpdhXoM3BapA/TqQz1vKx9qrBTNU/A3ATpgf5FXWcbG6sDN+H5jWXPJG5C01jTYDcgMSKLrHn64LCB7LWNFc9MQ07gAAAAMxBm1JJqEFsmUwIb//+jLAAA7qLUM2dvd3M8QANqNrRA1r/7o8PjJ0At3XkoLEAC/GHt3ZHkSm7bR4PihnU55b8kY5t6EQ3m/j0EONeBFXM7ETrlNtq59hlAbZ/gxv2EcNqwwooF17F94zTGlyQZ11vhr38SXj1hHnc8UhnMU4XU3Q19vE1MzpXKVODkccx1iIZ4h/wRwie19cZYO0GHEq+1dVi3wdMzoc6/ej5Qt/QTtdRaarbneFUQ87cnDnJ2aZ7yze+OEm/LuPZUuUAAAQNbW9vdgAAAGxtdmhkAAAAAAAAAAAAAAAAAAAD6AAAB2wAAQAAAQAAAAAAAAAAAAAAAAEAAAAAAAAAAAAAAAAAAAABAAAAAAAAAAAAAAAAAABAAAAAAAAAAAAAAAAAAAAAAAAAAAAAAAAAAAAAAAAAAgAAAzd0cmFrAAAAXHRraGQAAAADAAAAAAAAAAAAAAABAAAAAAAAB2wAAAAAAAAAAAAAAAAAAAAAAAEAAAAAAAAAAAAAAAAAAAABAAAAAAAAAAAAAAAAAABAAAAAAUAAAAFAAAAAAAAkZWR0cwAAABxlbHN0AAAAAAAAAAEAAAdsAAAIAAABAAAAAAKvbWRpYQAAACBtZGhkAAAAAAAAAAAAAAAAAAAoAAAATABVxAAAAAAALWhkbHIAAAAAAAAAAHZpZGUAAAAAAAAAAAAAAABWaWRlb0hhbmRsZXIAAAACWm1pbmYAAAAUdm1oZAAAAAEAAAAAAAAAAAAAACRkaW5mAAAAHGRyZWYAAAAAAAAAAQAAAAx1cmwgAAAAAQAAAhpzdGJsAAAArnN0c2QAAAAAAAAAAQAAAJ5hdmMxAAAAAAAAAAEAAAAAAAAAAAAAAAAAAAAAAUABQABIAAAASAAAAAAAAAABAAAAAAAAAAAAAAAAAAAAAAAAAAAAAAAAAAAAAAAAAAAAGP//AAAANGF2Y0MBZAAV/+EAGGdkABWs2UFApoQAAAMABAAAAwBQPFi2WAEABWjr5yyL/fj4AAAAABRidHJ0AAAAAAAAVBAAAFQQAAAAGHN0dHMAAAAAAAAAAQAAABMAAAQAAAAAFHN0c3MAAAAAAAAAAQAAAAEAAACoY3R0cwAAAAAAAAATAAAAAQAACAAAAAABAAAUAAAAAAEAAAgAAAAAAQAAAAAAAAABAAAEAAAAAAEAAAgAAAAAAQAAFAAAAAABAAAIAAAAAAEAAAAAAAAAAQAABAAAAAABAAAUAAAAAAEAAAgAAAAAAQAAAAAAAAABAAAEAAAAAAEAABQAAAAAAQAACAAAAAABAAAAAAAAAAEAAAQAAAAAAQAACAAAAAAcc3RzYwAAAAAAAAABAAAAAQAAABMAAAABAAAAYHN0c3oAAAAAAAAAAAAAABMAAAfMAAAA4gAAAMUAAAAYAAAAqQAAAIIAAADNAAAAuAAAAK0AAACyAAAAtgAAALUAAACxAAAApgAAALoAAACxAAAArQAAALMAAADQAAAAFHN0Y28AAAAAAAAAAQAAADAAAABidWR0YQAAAFptZXRhAAAAAAAAACFoZGxyAAAAAAAAAABtZGlyYXBwbAAAAAAAAAAAAAAAAC1pbHN0AAAAJal0b28AAAAdZGF0YQAAAAEAAAAATGF2ZjU4Ljc2LjEwMA==\" type=\"video/mp4\">\n",
              "  Your browser does not support the video tag.\n",
              "  </video>"
            ]
          },
          "metadata": {},
          "execution_count": 64
        }
      ],
      "source": [
        "embed_mp4('/content/vid_1500.mp4')"
      ]
    },
    {
      "cell_type": "markdown",
      "source": [
        "## Evaluating average step count"
      ],
      "metadata": {
        "id": "IM7DwB8c3ipt"
      }
    },
    {
      "cell_type": "code",
      "execution_count": null,
      "metadata": {
        "id": "pfmPrYj1ru_v",
        "colab": {
          "base_uri": "https://localhost:8080/"
        },
        "outputId": "e67e4cc6-4d95-41d0-b410-0b51f487912a"
      },
      "outputs": [
        {
          "output_type": "stream",
          "name": "stdout",
          "text": [
            "avg is 21.36\n",
            "median is 19.0\n"
          ]
        }
      ],
      "source": [
        "env = KEYRGBImgObsWrapper(RandomKeyMEnv_10 (render_mode='rgb_array'))\n",
        "env = PreprocessWrapper(env)\n",
        "obs = env.reset()[0]\n",
        "\n",
        "steps_per_episodes = []\n",
        "num_of_games = 100\n",
        "# Evaluation\n",
        "for i in range (num_of_games):\n",
        "  obs = env.reset()[0]\n",
        "  step_count = 0\n",
        "  state = obs\n",
        "  done = False\n",
        "  total_reward = 0\n",
        "  for step in range(max_steps):\n",
        "      action = agent.act(state)\n",
        "      obs, reward, done, _, _ = env.step(action)\n",
        "      step_count += 1\n",
        "      state = obs  # Get agent's position directly from the environment\n",
        "      if done:\n",
        "        break\n",
        "\n",
        "  steps_per_episodes.append(step_count)\n",
        "\n",
        "avg = sum(steps_per_episodes)/len(steps_per_episodes)\n",
        "print(f'avg is {avg}')\n",
        "median = np.median(steps_per_episodes)\n",
        "print(f'median is {median}')"
      ]
    },
    {
      "cell_type": "markdown",
      "source": [
        "## Loading saved model for inference"
      ],
      "metadata": {
        "id": "cCnXChpPz-o6"
      }
    },
    {
      "cell_type": "code",
      "execution_count": null,
      "metadata": {
        "id": "SzlOBdBwQaTo",
        "colab": {
          "base_uri": "https://localhost:8080/"
        },
        "outputId": "6b95d2f0-a854-40c2-8ef3-8b36c6d4985c"
      },
      "outputs": [
        {
          "output_type": "stream",
          "name": "stdout",
          "text": [
            "(1, 144, 144)\n",
            "zeros.shape: torch.Size([1, 1, 144, 144])\n",
            "(1, 144, 144)\n",
            "zeros.shape: torch.Size([1, 1, 144, 144])\n"
          ]
        },
        {
          "output_type": "execute_result",
          "data": {
            "text/plain": [
              "QNetwork(\n",
              "  (conv): Sequential(\n",
              "    (0): Conv2d(1, 32, kernel_size=(8, 8), stride=(4, 4))\n",
              "    (1): ReLU()\n",
              "    (2): Conv2d(32, 64, kernel_size=(4, 4), stride=(2, 2))\n",
              "    (3): ReLU()\n",
              "    (4): Conv2d(64, 64, kernel_size=(3, 3), stride=(1, 1))\n",
              "    (5): ReLU()\n",
              "  )\n",
              "  (fc): Sequential(\n",
              "    (0): Linear(in_features=12544, out_features=512, bias=True)\n",
              "    (1): ReLU()\n",
              "    (2): Linear(in_features=512, out_features=5, bias=True)\n",
              "  )\n",
              ")"
            ]
          },
          "metadata": {},
          "execution_count": 69
        }
      ],
      "source": [
        "MODEL_PATH = 'OPTIMAL_eps_09995_gamma_09_buffer_10k.pth'\n",
        "agent = Agent(state_size, action_size, seed=0)\n",
        "agent.qnetwork_local.load_state_dict(torch.load(MODEL_PATH, map_location=device))\n",
        "agent.qnetwork_local.eval()  # Set the network to evaluation mode if you're using it for inference"
      ]
    },
    {
      "cell_type": "code",
      "execution_count": null,
      "metadata": {
        "id": "ktSr3ENH5w3P"
      },
      "outputs": [],
      "source": []
    }
  ],
  "metadata": {
    "accelerator": "GPU",
    "colab": {
      "gpuType": "T4",
      "machine_shape": "hm",
      "provenance": [],
      "include_colab_link": true
    },
    "kernelspec": {
      "display_name": "Python 3",
      "name": "python3"
    },
    "language_info": {
      "name": "python"
    }
  },
  "nbformat": 4,
  "nbformat_minor": 0
}